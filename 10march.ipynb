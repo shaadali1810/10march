{
 "cells": [
  {
   "cell_type": "code",
   "execution_count": 27,
   "id": "1eacbc9b-e2ad-4ba6-ab79-3fe4ee8efbab",
   "metadata": {},
   "outputs": [],
   "source": [
    "#1 \n",
    "#estimate statistics  is observed numerical value used to estimate an unknown polpulation parameter\n",
    "#Estimation in statistics refers to the process of making inferences about a population based on information obtained from a sample.0 The estimator is a rule for calculating an estimate of a given quantity based on observed data. The estimand, the quantity of interest, and its result are distinguished. The estimator is a statistic that is used to infer the value of an unknown parameter in a statistical model. For example, the sample mean is a commonly used estimator of the population mean.2 Estimation is the process by which the numerical value of unknown population values are inferred from incomplete data, such as a sample.1\n",
    "# point estimate is a single numerical value used to estimate the unknown population parameter\n",
    "#for ex sample mean is a point estimate of a population mean\n",
    "#interval estimate is a range of values used to estimate the unknown polpulation parameter\n",
    "# interval estimate of population parameter are called confidence intervals\n",
    "\n",
    "\n"
   ]
  },
  {
   "cell_type": "code",
   "execution_count": 28,
   "id": "740fa171-8ffd-4b1b-b33d-9ffc4d88da29",
   "metadata": {},
   "outputs": [
    {
     "data": {
      "text/plain": [
       "14.75"
      ]
     },
     "execution_count": 28,
     "metadata": {},
     "output_type": "execute_result"
    }
   ],
   "source": [
    "#2 \n",
    "arr1 = [10,14,13,15]\n",
    "arr2 = [11,23,14,18]\n",
    "import numpy as np\n",
    "np.mean(arr1+arr2)"
   ]
  },
  {
   "cell_type": "code",
   "execution_count": 29,
   "id": "cd202db2-cf43-4596-94c4-e009f50b9e6f",
   "metadata": {},
   "outputs": [
    {
     "data": {
      "text/plain": [
       "(2.160246899469287, 5.196152422706632)"
      ]
     },
     "execution_count": 29,
     "metadata": {},
     "output_type": "execute_result"
    }
   ],
   "source": [
    "narr1 = np.array(arr1)\n",
    "narr2 = np.array(arr2)\n",
    "narr1.std,narr2.std\n",
    "narr1.std(ddof=1),narr2.std(ddof=1)"
   ]
  },
  {
   "cell_type": "code",
   "execution_count": 30,
   "id": "c99a426e-e477-4129-9148-c011989aad0b",
   "metadata": {},
   "outputs": [],
   "source": [
    "#3\n",
    "#ypothesis testing, sometimes called significance testing, is an act in statistics whereby an analyst tests an assumption regarding a population parameter. The methodology employed by the analyst depends on the nature of the data used and the reason for the analysis.\n",
    "\n",
    "#Hypothesis testing is used to assess the plausibility of a hypothesis by using sample data. Such data may come from a larger population, or from a data-generating process. The word \"population\" will be used for both of these cases in the following descriptions.\n",
    "#Hypothesis testing is used to assess the plausibility of a hypothesis by using sample data.\n",
    "#The test provides evidence concerning the plausibility of the hypothesis, given the data.\n",
    "#Statistical analysts test a hypothesis by measuring and examining a random sample of the population being analyzed.\n",
    "#The four steps of hypothesis testing include stating the hypotheses, formulating an analysis plan, analyzing the sample data, and analyzing the result\n"
   ]
  },
  {
   "cell_type": "code",
   "execution_count": 31,
   "id": "a65c5597-ba95-4509-aec4-d32da66c4b41",
   "metadata": {},
   "outputs": [],
   "source": [
    "#4 \n",
    "# hypothesis (h0) = the average weight of  male college students > the averare weight of female college student\n",
    "# alternative hypothesis(h1) =  the average weight of male college student !> the average weight of  female college students\n"
   ]
  },
  {
   "cell_type": "code",
   "execution_count": 32,
   "id": "f30aa325-04c9-4091-b2e7-c40c9bbb5c9f",
   "metadata": {},
   "outputs": [
    {
     "data": {
      "text/plain": [
       "(2.9166666666666665, 250.88888888888889)"
      ]
     },
     "execution_count": 32,
     "metadata": {},
     "output_type": "execute_result"
    }
   ],
   "source": [
    "#5\n",
    "grp1 = np.array([1,2,3,4,5,6])\n",
    "grp2 = np.array([33,44,3,5,7,8])\n",
    "np.var(grp1),np.var(grp2)"
   ]
  },
  {
   "cell_type": "code",
   "execution_count": 33,
   "id": "dc30f844-8c13-47cc-a2a0-a91577d2cb43",
   "metadata": {},
   "outputs": [],
   "source": [
    "import scipy.stats as stats"
   ]
  },
  {
   "cell_type": "code",
   "execution_count": 34,
   "id": "06c5536d-9d2f-4b31-80cd-60b43e541453",
   "metadata": {},
   "outputs": [
    {
     "data": {
      "text/plain": [
       "Ttest_indResult(statistic=-1.8480353783864574, pvalue=0.09434846580519288)"
      ]
     },
     "execution_count": 34,
     "metadata": {},
     "output_type": "execute_result"
    }
   ],
   "source": [
    "stats.ttest_ind(a=grp1,b=grp2,equal_var=True)"
   ]
  },
  {
   "cell_type": "code",
   "execution_count": 35,
   "id": "3a7da963-b198-42f4-935c-cee141c43a33",
   "metadata": {},
   "outputs": [],
   "source": [
    "#6\n",
    "#Null and alternative hypotheses are two mutually exclusive statements about a population.0 A null hypothesis represents the default state or well-established belief in a particular claim, while an alternate hypothesis is typically against what is believed as true. The technique used to formulate null and alternative hypotheses involves identifying whether there is a new claim being made about something which has been established as truth or if someone wants to question existing beliefs and make new claims altogether.2 For example, if a defendant is charged with robbery, the null hypothesis would be that the defendant is not guilty, while the alternative hypothesis would be that the defendant is guilty. The trial's goal would be to determine whether sufficient evidence exists to reject the null hypothesis in favour of the alternative hypothesis.1 A hypothesis test uses sample data to determine whether to reject the null hypothesis.01\n",
    "#favicon\n",
    "#support.minitab.com favicon qualitygurus.com\n"
   ]
  },
  {
   "cell_type": "code",
   "execution_count": 36,
   "id": "c1a7c758-b51a-4730-b39d-e96e3a0e53ae",
   "metadata": {},
   "outputs": [],
   "source": [
    "#7\n",
    "#There are 5 main steps in hypothesis testing:\n",
    "\n",
    "#State your research hypothesis as a null hypothesis and alternate hypothesis (Ho) and (Ha or H1).\n",
    "#Collect data in a way designed to test the hypothesis.\n",
    "#Perform an appropriate statistical test.\n",
    "#Decide whether to reject or fail to reject your null hypothesis.\n",
    "#Present the findings in your results and discussion section."
   ]
  },
  {
   "cell_type": "code",
   "execution_count": 37,
   "id": "69f08ccc-65f5-4ecc-88b6-82a8102cfaaf",
   "metadata": {},
   "outputs": [],
   "source": [
    "#8P-value, also known as probability value, is a measure of the probability that a real-valued test statistic is at least as extreme as the value actually obtained.0 It is used in statistical hypothesis testing to determine whether to reject the null hypothesis.02 A p-value less than 0.5 is statistically significant, while a value higher than 0.5 indicates the null hypothesis is true.0 The smaller the p-value, the greater the statistical significance of the observed difference, which results in the rejection of the null hypothesis in favour of alternative hypotheses.3 The p-value serves as an alternative to rejection points to provide the smallest level of significance at which the null hypothesis would be rejected.1 When running the hypothesis test, the test will give you a value for p, and you can compare that value to your chosen alpha level.2"
   ]
  },
  {
   "cell_type": "code",
   "execution_count": 38,
   "id": "4c74a867-bdde-4033-8491-13f6d1c45df9",
   "metadata": {},
   "outputs": [],
   "source": [
    "from scipy.stats import t"
   ]
  },
  {
   "cell_type": "code",
   "execution_count": 39,
   "id": "f764d1f4-15cf-4ae5-a486-0e6bcca163aa",
   "metadata": {},
   "outputs": [
    {
     "data": {
      "text/plain": [
       "0.08225366322272008"
      ]
     },
     "execution_count": 39,
     "metadata": {},
     "output_type": "execute_result"
    }
   ],
   "source": [
    "#9\n",
    "t.cdf(x=-1.5,df=10)"
   ]
  },
  {
   "cell_type": "code",
   "execution_count": 40,
   "id": "68e30293-aac2-4460-ab24-dca84d625fe5",
   "metadata": {},
   "outputs": [],
   "source": [
    "\n",
    "import scipy.stats as st\n"
   ]
  },
  {
   "cell_type": "code",
   "execution_count": 41,
   "id": "1bdd3788-e819-4a30-ac64-3c853676779d",
   "metadata": {},
   "outputs": [
    {
     "data": {
      "text/plain": [
       "(1.04, 1.8399999999999999)"
      ]
     },
     "execution_count": 41,
     "metadata": {},
     "output_type": "execute_result"
    }
   ],
   "source": [
    "#10\n",
    "data1= np.array([14,15,15,16,13])\n",
    "data2=np.array([15,17,14,17,14])\n",
    "np.var(data1),np.var(data2)"
   ]
  },
  {
   "cell_type": "code",
   "execution_count": 42,
   "id": "08afadaf-53e3-4b31-b5e8-e33177cb62a9",
   "metadata": {},
   "outputs": [],
   "source": [
    "#11 he T distribution (also called Student’s T Distribution) is a family of distributions that look almost identical to the normal distribution curve, only a bit shorter and fatter. The t distribution is used instead of the normal distribution when you have small samples (for more on this, see: t-score vs. z-score). The larger the sample size, the more the t distribution looks like the normal distribution. In fact, for sample sizes larger than 20 (e.g. more degrees of freedom), the distribution is almost exactly like the normal distribution.\n",
    "#The T Distribution (and the associated t scores), are used in hypothesis testing when you want to figure out if you should accept or reject the null hypothesis.\n",
    "#t distribution\n",
    "#The central region on this graph is the acceptance area and the tail is the rejection region, or regions. In this particular graph of a two tailed test, the rejection region is shaded blue. The area in the tail can be described with z-scores or t-scores. For example, the image to the left shows an area in the tails of 5% (2.5% each side). The z-score would be 1.96 (from the z-table), which represents 1.96 standard deviations from the mean. The null hypothesis will be rejected if z is less than -1.96 or greater than 1.96"
   ]
  },
  {
   "cell_type": "code",
   "execution_count": 43,
   "id": "abd5b2af-05c2-4e99-95cf-161bb18d1962",
   "metadata": {},
   "outputs": [],
   "source": [
    "#12 The T distribution (also called Student’s T Distribution) is a family of distributions that look almost identical to the normal distribution curve, only a bit shorter and fatter. The t distribution is used instead of the normal distribution when you have small samples (for more on this, see: t-score vs. z-score). The larger the sample size, the more the t distribution looks like the normal distribution. In fact, for sample sizes larger than 20 (e.g. more degrees of freedom), the distribution is almost exactly like the normal distribution.\n",
    "#The T-distribution formula, also known as student's T-distribution, involves subtracting the sample mean from the population mean, dividing it by the standard deviation, and multiples it by the square root.1 This formula is commonly used in statistical analysis to determine the degree of freedom of a variable.0 The formula is given by subtracting the sample mean from the population mean, dividing it by the standard deviation, and multiples it by the square root. The T-distribution is also known as student's T-distribution.1"
   ]
  },
  {
   "cell_type": "code",
   "execution_count": 44,
   "id": "22295255-cc1f-4f32-b818-839f95aaa518",
   "metadata": {},
   "outputs": [],
   "source": [
    "#13 \n",
    "# _x-x/std\n",
    "# 500/50=10\n",
    "# a = 0.05\n",
    "#degrre of freedom = 50-1=49\n",
    "#s/n\n",
    "#500/root50 = 7.071\n",
    "#If we choose 95% as the confidence level, the \n",
    " #is 0.05.\n",
    "\n",
    "#So we need to find the critical t-value\n",
    "\n",
    "# t0.05/2(49)=t0.025(49)\n"
   ]
  },
  {
   "cell_type": "code",
   "execution_count": null,
   "id": "fbf762c3-4d93-497d-aceb-2c7b49f9c508",
   "metadata": {},
   "outputs": [],
   "source": []
  },
  {
   "cell_type": "code",
   "execution_count": 45,
   "id": "05f7cc4e-9573-4ede-abc1-9a9d25ff022c",
   "metadata": {},
   "outputs": [
    {
     "data": {
      "text/plain": [
       "2.009575234489209"
      ]
     },
     "execution_count": 45,
     "metadata": {},
     "output_type": "execute_result"
    }
   ],
   "source": [
    "stats.t.ppf(1-0.025,49)"
   ]
  },
  {
   "cell_type": "code",
   "execution_count": 50,
   "id": "79d267c2-270c-41cd-a7eb-cb09e3f52c79",
   "metadata": {},
   "outputs": [],
   "source": [
    "# ta/2(df)=2.01\n",
    "# standard error was ~~ 7.071\n",
    "#E =2.01*7.071\n",
    "#E = 14.21271\n",
    "# lower bound _x-E = 10-14.21271\n",
    " #   upper bound _x+E 10+14.21271\n",
    "  #  the confidence level is [-4.21271,24.21271]\n",
    "# the 95% confidence interval for the  average daily revenue is between    If we choose 95% as the confidence level, the \n",
    "#-4.21271,24.21271 revenue"
   ]
  },
  {
   "cell_type": "code",
   "execution_count": null,
   "id": "e037df37-d7a2-4b50-9e04-86e934f25a9d",
   "metadata": {},
   "outputs": [],
   "source": []
  },
  {
   "cell_type": "code",
   "execution_count": 46,
   "id": "64ca4b1b-25f7-4153-9810-1b391650b620",
   "metadata": {},
   "outputs": [],
   "source": [
    "#14\n",
    "# null hypothesis h0  u=10mm\n",
    "# alternative hypothesis h1 u != 10mm\n",
    "# C.I = 0.05 , a = 1-0.05 ,a= 0.95\n",
    "# ztest = _x-u/std/rootn\n",
    "# 10-8/3/100\n",
    "# ztest = 66.667\n",
    "#if ztest value is less then -82894 or greater +82894 we reject the null hypothesis\n",
    " #   else we accept it"
   ]
  },
  {
   "cell_type": "code",
   "execution_count": 47,
   "id": "ed473475-9e8b-4058-b8fe-445e277f502e",
   "metadata": {},
   "outputs": [],
   "source": [
    "# 15 \n",
    "# null hypothesis h0 u = 5 \n",
    "# alternative hypothesis h1  u != 5\n",
    "# C.I = 0.01, a = 1-0.01 ,a = 0.99\n",
    "# using ztest formula\n",
    "# 5-4.8/0.5/25\n",
    "# ztest = 1"
   ]
  },
  {
   "cell_type": "code",
   "execution_count": 48,
   "id": "df94707c-4ebf-4397-af11-ef6e425727a7",
   "metadata": {},
   "outputs": [],
   "source": [
    "#16# using ztest formula\n",
    "# "
   ]
  },
  {
   "cell_type": "code",
   "execution_count": 49,
   "id": "1b90facc-06b8-48ba-8ee2-865b901bc638",
   "metadata": {},
   "outputs": [],
   "source": [
    "#17\n",
    "#"
   ]
  },
  {
   "cell_type": "code",
   "execution_count": null,
   "id": "164db15f-0f31-4a99-91c3-d6c32b94d7ed",
   "metadata": {},
   "outputs": [],
   "source": []
  },
  {
   "cell_type": "code",
   "execution_count": null,
   "id": "7f9adb64-d86b-4e70-a5be-bee5dc721692",
   "metadata": {},
   "outputs": [],
   "source": []
  }
 ],
 "metadata": {
  "kernelspec": {
   "display_name": "Python 3 (ipykernel)",
   "language": "python",
   "name": "python3"
  },
  "language_info": {
   "codemirror_mode": {
    "name": "ipython",
    "version": 3
   },
   "file_extension": ".py",
   "mimetype": "text/x-python",
   "name": "python",
   "nbconvert_exporter": "python",
   "pygments_lexer": "ipython3",
   "version": "3.10.8"
  }
 },
 "nbformat": 4,
 "nbformat_minor": 5
}
